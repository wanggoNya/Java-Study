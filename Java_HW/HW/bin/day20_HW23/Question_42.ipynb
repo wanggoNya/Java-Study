{
 "cells": [
  {
   "cell_type": "code",
   "execution_count": 37,
   "metadata": {},
   "outputs": [
    {
     "name": "stdout",
     "output_type": "stream",
     "text": [
      "~ 행복 왕국 왕실 정원에 오신 것을 환영합니다. ~\n",
      "a1\ta2\ta3\ta4\ta5\ta6\ta7\ta8\t\n",
      "b1\tb2\tb3\tb4\tb5\tb6\tb7\tb8\t\n",
      "c1\tc2\tc3\tc4\tc5\tc6\tc7\tc8\t\n",
      "d1\td2\td3\td4\td5\td6\td7\td8\t\n",
      "e1\te2\te3\te4\te5\te6\te7\te8\t\n",
      "f1\tf2\tf3\tf4\tf5\tf6\tf7\tf8\t\n",
      "g1\tg2\tg3\tg4\tg5\tg6\tg7\tg8\t\n",
      "h1\th2\th3\th4\th5\th6\th7\th8\t\n",
      "나이트는 2가지의 경로로 이동이 가능합니다\n"
     ]
    }
   ],
   "source": [
    "print(\"~ 행복 왕국 왕실 정원에 오신 것을 환영합니다. ~\")\n",
    "for x in range(97,105):\n",
    "    for y in range(49,57):\n",
    "        y = y\n",
    "        print(f'{chr(x)}{chr(y)}', end='\\t')\n",
    "    print()\n",
    "\n",
    "location = input(\"나이트는 어디에 있나요?? >>\")\n",
    "\n",
    "x = ord(location[0])-96\n",
    "y = int(location[-1])\n",
    "possible = 0\n",
    "\n",
    "if ((x-1) > 0) & ((y-2) > 0):\n",
    "    possible += 2\n",
    "\n",
    "if ((x+1) < 9) & ((y+2) > 0):\n",
    "    possible += 2\n",
    "\n",
    "print(f'나이트는 {possible}가지의 경로로 이동이 가능합니다')"
   ]
  },
  {
   "cell_type": "code",
   "execution_count": null,
   "metadata": {},
   "outputs": [],
   "source": []
  }
 ],
 "metadata": {
  "interpreter": {
   "hash": "c70382d6e6eb62a6ed0310338bc5b0fda788da35d140e0e4ee7db99f072cd977"
  },
  "kernelspec": {
   "display_name": "Python 3.9.7 ('base')",
   "language": "python",
   "name": "python3"
  },
  "language_info": {
   "codemirror_mode": {
    "name": "ipython",
    "version": 3
   },
   "file_extension": ".py",
   "mimetype": "text/x-python",
   "name": "python",
   "nbconvert_exporter": "python",
   "pygments_lexer": "ipython3",
   "version": "3.9.7"
  },
  "orig_nbformat": 4
 },
 "nbformat": 4,
 "nbformat_minor": 2
}
