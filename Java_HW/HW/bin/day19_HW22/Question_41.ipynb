{
 "cells": [
  {
   "cell_type": "code",
   "execution_count": null,
   "metadata": {},
   "outputs": [],
   "source": [
    "import numpy as np\n",
    "\n",
    "map = 0\n",
    "\n",
    "\n",
    "while( map > 0):\n",
    "    map = int(input(\"몇 칸 짜리 지도를 만들까요? 1 이상, 100 이하의 숫자를 말하세요. >> \"))\n",
    "\n",
    "maps = []\n",
    "x = 0\n",
    "y = 0\n",
    "while num < map:\n",
    "    maps.append([x][y]) = \n",
    "\n",
    "print(f\"{map} 칸 짜리 지도가 만들어졌습니다.\")\n",
    "\n",
    "for()"
   ]
  },
  {
   "cell_type": "code",
   "execution_count": null,
   "metadata": {},
   "outputs": [],
   "source": []
  }
 ],
 "metadata": {
  "language_info": {
   "name": "python"
  },
  "orig_nbformat": 4
 },
 "nbformat": 4,
 "nbformat_minor": 2
}
